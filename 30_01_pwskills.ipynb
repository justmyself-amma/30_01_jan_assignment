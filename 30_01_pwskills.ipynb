{
 "cells": [
  {
   "cell_type": "code",
   "execution_count": 78,
   "id": "6852e72d",
   "metadata": {},
   "outputs": [],
   "source": [
    "# Question 1"
   ]
  },
  {
   "cell_type": "code",
   "execution_count": 94,
   "id": "1c49eb1c",
   "metadata": {},
   "outputs": [
    {
     "name": "stdout",
     "output_type": "stream",
     "text": [
      "Enter your percentage of marks 79\n"
     ]
    }
   ],
   "source": [
    "percentage = float(input(\"Enter your percentage of marks \"))"
   ]
  },
  {
   "cell_type": "code",
   "execution_count": 95,
   "id": "00dfd41b",
   "metadata": {},
   "outputs": [
    {
     "name": "stdout",
     "output_type": "stream",
     "text": [
      "Your Grade is C\n"
     ]
    }
   ],
   "source": [
    "if percentage>= 90 :\n",
    "    print('Your Grade is A')\n",
    "elif percentage >= 80 and percentage < 90 :\n",
    "    print('Your Grade is B')\n",
    "elif percentage >= 60 and percentage < 80 :\n",
    "    print('Your Grade is C')\n",
    "else :\n",
    "    print('Your Grade is D')"
   ]
  },
  {
   "cell_type": "code",
   "execution_count": 96,
   "id": "3b3abb8e",
   "metadata": {},
   "outputs": [],
   "source": [
    "# Question 2"
   ]
  },
  {
   "cell_type": "code",
   "execution_count": 97,
   "id": "0c7cf626",
   "metadata": {},
   "outputs": [
    {
     "name": "stdout",
     "output_type": "stream",
     "text": [
      "Enter the cost price of ypur bike : 89765\n"
     ]
    }
   ],
   "source": [
    "cost_price = int(input('Enter the cost price of ypur bike : '))"
   ]
  },
  {
   "cell_type": "code",
   "execution_count": 98,
   "id": "8a67baec",
   "metadata": {},
   "outputs": [
    {
     "name": "stdout",
     "output_type": "stream",
     "text": [
      "Your Road Tax is 8976.5\n"
     ]
    }
   ],
   "source": [
    "if cost_price <= 50000 : \n",
    "    print(f'Your Road Tax is {cost_price*0.05}')\n",
    "elif cost_price > 50000 and cost_price <= 100000 : \n",
    "    print(f'Your Road Tax is {cost_price*0.1}')\n",
    "else : \n",
    "    print(f'Your Road Tax is {cost_price*0.15}')"
   ]
  },
  {
   "cell_type": "code",
   "execution_count": 99,
   "id": "483cdd04",
   "metadata": {},
   "outputs": [],
   "source": [
    "# Question 3 "
   ]
  },
  {
   "cell_type": "code",
   "execution_count": 100,
   "id": "d07722b2",
   "metadata": {},
   "outputs": [],
   "source": [
    "mom_cit = {'delhi':'Red Fort' , 'agra':'Taj Mahal' , 'jaipur':'Jai Mahal'}"
   ]
  },
  {
   "cell_type": "code",
   "execution_count": 101,
   "id": "18d2eea0",
   "metadata": {},
   "outputs": [
    {
     "name": "stdout",
     "output_type": "stream",
     "text": [
      "Enter your city selhi/agra/jaipur : delhi\n"
     ]
    }
   ],
   "source": [
    "city = input('Enter your city selhi/agra/jaipur : ')"
   ]
  },
  {
   "cell_type": "code",
   "execution_count": 103,
   "id": "b687362d",
   "metadata": {},
   "outputs": [
    {
     "name": "stdout",
     "output_type": "stream",
     "text": [
      "monument of the city delhi is Red Fort\n"
     ]
    }
   ],
   "source": [
    "print(f'monument of the city {city} is {mom_cit[city]}')"
   ]
  },
  {
   "cell_type": "code",
   "execution_count": 104,
   "id": "6201bb7f",
   "metadata": {},
   "outputs": [],
   "source": [
    "# Question 4 "
   ]
  },
  {
   "cell_type": "code",
   "execution_count": 112,
   "id": "0a8d5182",
   "metadata": {},
   "outputs": [
    {
     "name": "stdout",
     "output_type": "stream",
     "text": [
      "Enter your Number : 1567\n"
     ]
    }
   ],
   "source": [
    "count = 0 \n",
    "num = int(input('Enter your Number : '))\n",
    "a = num"
   ]
  },
  {
   "cell_type": "code",
   "execution_count": 113,
   "id": "f838a051",
   "metadata": {},
   "outputs": [],
   "source": [
    "while num > 10 : \n",
    "    count += 1 \n",
    "    num /= 3"
   ]
  },
  {
   "cell_type": "code",
   "execution_count": 114,
   "id": "6b832a26",
   "metadata": {},
   "outputs": [
    {
     "name": "stdout",
     "output_type": "stream",
     "text": [
      "The number 1567 is divisible by 3 in 5 times before less than 10\n"
     ]
    }
   ],
   "source": [
    "print(f'The number {a} is divisible by 3 in {count} times before less than 10')"
   ]
  },
  {
   "cell_type": "code",
   "execution_count": 115,
   "id": "4960b227",
   "metadata": {},
   "outputs": [],
   "source": [
    "#Question 5 "
   ]
  },
  {
   "cell_type": "raw",
   "id": "3e76fe34",
   "metadata": {},
   "source": [
    "While loop is used until a specified condition is met "
   ]
  },
  {
   "cell_type": "code",
   "execution_count": 116,
   "id": "4672946e",
   "metadata": {},
   "outputs": [],
   "source": [
    "# Question 7"
   ]
  },
  {
   "cell_type": "code",
   "execution_count": 119,
   "id": "a8ee43bb",
   "metadata": {},
   "outputs": [
    {
     "name": "stdout",
     "output_type": "stream",
     "text": [
      "10\n",
      "9\n",
      "8\n",
      "7\n",
      "6\n",
      "5\n",
      "4\n",
      "3\n",
      "2\n",
      "1\n"
     ]
    }
   ],
   "source": [
    "num = 10\n",
    "while num > 0 :\n",
    "    print(num)\n",
    "    num -= 1 "
   ]
  },
  {
   "cell_type": "code",
   "execution_count": null,
   "id": "5a26a88d",
   "metadata": {},
   "outputs": [],
   "source": []
  },
  {
   "cell_type": "code",
   "execution_count": null,
   "id": "769a8577",
   "metadata": {},
   "outputs": [],
   "source": []
  }
 ],
 "metadata": {
  "kernelspec": {
   "display_name": "Python 3 (ipykernel)",
   "language": "python",
   "name": "python3"
  },
  "language_info": {
   "codemirror_mode": {
    "name": "ipython",
    "version": 3
   },
   "file_extension": ".py",
   "mimetype": "text/x-python",
   "name": "python",
   "nbconvert_exporter": "python",
   "pygments_lexer": "ipython3",
   "version": "3.11.5"
  }
 },
 "nbformat": 4,
 "nbformat_minor": 5
}
